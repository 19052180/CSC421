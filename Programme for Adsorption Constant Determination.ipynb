{
 "cells": [
  {
   "cell_type": "code",
   "execution_count": 1,
   "metadata": {},
   "outputs": [],
   "source": [
    "import numpy as np\n",
    "import pandas as pd\n",
    "from scipy.integrate import solve_ivp\n",
    "from matplotlib import pyplot as plt\n",
    "from scipy.optimize import curve_fit\n",
    "from scipy.stats import linregress as lnrg"
   ]
  },
  {
   "cell_type": "code",
   "execution_count": 3,
   "metadata": {},
   "outputs": [
    {
     "name": "stdout",
     "output_type": "stream",
     "text": [
      "Enter name of the spreadsheet: Reformatted\n"
     ]
    }
   ],
   "source": [
    "Spreadsheetname = input('Enter name of the spreadsheet: ')\n",
    "Spreadsheet_name = f'{Spreadsheetname}.xlsx'"
   ]
  },
  {
   "cell_type": "code",
   "execution_count": 4,
   "metadata": {},
   "outputs": [
    {
     "name": "stdout",
     "output_type": "stream",
     "text": [
      "Enter the name of the isotherms sheet: Muedi Isotherms\n",
      "Enter the name of the kinetics sheet: Muedi Kinetics\n"
     ]
    }
   ],
   "source": [
    "Isotherms_name = input('Enter the name of the isotherms sheet: ')\n",
    "Kinetics_name = input('Enter the name of the kinetics sheet: ')"
   ]
  },
  {
   "cell_type": "code",
   "execution_count": 33,
   "metadata": {},
   "outputs": [
    {
     "name": "stdout",
     "output_type": "stream",
     "text": [
      "How many temperatures were used in the isotherm experiments: 3\n"
     ]
    }
   ],
   "source": [
    "no1 = int(input('How many temperatures were used in the isotherm experiments: '))"
   ]
  },
  {
   "cell_type": "code",
   "execution_count": 34,
   "metadata": {},
   "outputs": [
    {
     "name": "stdout",
     "output_type": "stream",
     "text": [
      "Insert T1 here: 298\n",
      "Insert T2 here: 308\n",
      "Insert T3 here: 318\n"
     ]
    }
   ],
   "source": [
    "Tspan = []\n",
    "for i in range(no1):\n",
    "    t = int(input(f'Insert T{i+1} here (in K): '))\n",
    "    Tspan.append(t)"
   ]
  },
  {
   "cell_type": "code",
   "execution_count": 35,
   "metadata": {},
   "outputs": [
    {
     "name": "stdout",
     "output_type": "stream",
     "text": [
      "How many initial concentration runs were done in the kinetics experiments: 4\n"
     ]
    }
   ],
   "source": [
    "no2 = int(input('How many initial concentration runs were done in the kinetics experiments: '))"
   ]
  },
  {
   "cell_type": "code",
   "execution_count": 36,
   "metadata": {},
   "outputs": [
    {
     "name": "stdout",
     "output_type": "stream",
     "text": [
      "Insert C1 here: 10\n",
      "Insert C2 here: 150\n",
      "Insert C3 here: 200\n",
      "Insert C4 here: 250\n"
     ]
    }
   ],
   "source": [
    "Cspan = []\n",
    "for i in range(no2):\n",
    "    c = int(input(f'Insert C{i+1} here (in mg/L): '))\n",
    "    Cspan.append(c)"
   ]
  },
  {
   "cell_type": "code",
   "execution_count": 37,
   "metadata": {},
   "outputs": [
    {
     "name": "stdout",
     "output_type": "stream",
     "text": [
      "Enter the mass of adsorbent used in the kinetics study (in g): 1\n",
      "Enter the volume of the adsorbate solution used in the kinetics (in L): 0.25\n"
     ]
    }
   ],
   "source": [
    "m = float(input('Enter the mass of adsorbent used in the kinetics study (in g): '))\n",
    "V = float(input('Enter the volume of the adsorbate solution used in the kinetics (in L): '))"
   ]
  },
  {
   "cell_type": "code",
   "execution_count": 38,
   "metadata": {},
   "outputs": [
    {
     "name": "stdout",
     "output_type": "stream",
     "text": [
      "Enter the temperature used for the kinetics study: 298.15\n"
     ]
    }
   ],
   "source": [
    "T_kinetics = float(input('Enter the temperature used for the kinetics study (in K): '))"
   ]
  },
  {
   "cell_type": "code",
   "execution_count": 39,
   "metadata": {},
   "outputs": [
    {
     "name": "stdout",
     "output_type": "stream",
     "text": [
      "Does each kinetics data set have its own individual time set (\"Yes\")? (If one universal set, enter \"No\"): no\n"
     ]
    }
   ],
   "source": [
    "Timevar = input('Does each kinetics data set have its own individual time set (\"Yes\")? (If one universal set, enter \"No\"): ')"
   ]
  },
  {
   "cell_type": "code",
   "execution_count": 40,
   "metadata": {},
   "outputs": [
    {
     "name": "stdout",
     "output_type": "stream",
     "text": [
      "What units are the time values in: min\n"
     ]
    }
   ],
   "source": [
    "Time_units = input('What units are the time values in: ')"
   ]
  },
  {
   "cell_type": "code",
   "execution_count": 41,
   "metadata": {},
   "outputs": [],
   "source": [
    "T_range = np.array(Tspan)\n",
    "C_array = np.array(Cspan)\n",
    "\n",
    "if Timevar == 'Yes' or 'yes':\n",
    "    No_TimeVar = 0\n",
    "if Timevar == 'No' or 'no':\n",
    "    No_TimeVar = 1\n",
    "    \n",
    "R = 8.314\n",
    "T_forcalc = T_kinetics\n",
    "T_used = T_forcalc\n",
    "\n",
    "percenta = 0"
   ]
  },
  {
   "cell_type": "code",
   "execution_count": 42,
   "metadata": {},
   "outputs": [],
   "source": [
    "if len(T_range) == 1:\n",
    "    no_Tvar = 1\n",
    "    \n",
    "else:\n",
    "    no_Tvar = 0"
   ]
  },
  {
   "cell_type": "code",
   "execution_count": 43,
   "metadata": {},
   "outputs": [],
   "source": [
    "iso = pd.read_excel(Spreadsheet_name, sheet_name = Isotherms_name)\n",
    "for i in range(1, no1+1):\n",
    "    gr = f'Ce{i}'\n",
    "    gt = f'{T_range[i-1]}K'\n",
    "    locals()[gr] = np.array(iso[gr])\n",
    "    locals()[gt] = np.array(iso[gt])\n",
    "    \n",
    "for j in range(1, no1+1):\n",
    "    tf = f'Ce{j}'\n",
    "    ty = f'Ce_{j}'\n",
    "    locals()[ty] = locals()[tf][~np.isnan(locals()[tf])]\n",
    "    \n",
    "    hg = f'{T_range[j-1]}K'\n",
    "    gh = f'Qe_{T_range[j-1]}'\n",
    "    locals()[gh] = locals()[hg][~np.isnan(locals()[hg])]"
   ]
  },
  {
   "cell_type": "code",
   "execution_count": 44,
   "metadata": {},
   "outputs": [],
   "source": [
    "Ce_list = []\n",
    "Qe_list = []\n",
    "\n",
    "for i in range(1, no1+1):\n",
    "    skrt = f'Ce_{i}'\n",
    "    fgrt = f'Qe_{T_range[i-1]}'\n",
    "    Ce_list.append(locals()[skrt])\n",
    "    Qe_list.append(locals()[fgrt])"
   ]
  },
  {
   "cell_type": "code",
   "execution_count": 45,
   "metadata": {},
   "outputs": [],
   "source": [
    "Cetotal = []\n",
    "Qetotal = []\n",
    "b = []\n",
    "c = []\n",
    "for j in range(no1):\n",
    "    result = Ce_list[j]\n",
    "    qq = Qe_list[j]\n",
    "    Cetotal = np.append(b, result)\n",
    "    Qetotal = np.append(c, qq)\n",
    "    if j == no1-1:\n",
    "        break\n",
    "    else:\n",
    "        b = Cetotal\n",
    "        c = Qetotal"
   ]
  },
  {
   "cell_type": "code",
   "execution_count": 46,
   "metadata": {},
   "outputs": [],
   "source": [
    "jk = []\n",
    "for i in range(len(Ce_list)):\n",
    "    jk.append(len(Ce_list[i]))\n",
    "\n",
    "kj = []\n",
    "kj.append(0)\n",
    "summ = 0\n",
    "for i in range(len(jk)):\n",
    "    summ += jk[i]\n",
    "    kj.append(summ)"
   ]
  },
  {
   "cell_type": "code",
   "execution_count": 47,
   "metadata": {},
   "outputs": [],
   "source": [
    "b_vals = []\n",
    "qm_vals = []\n",
    "\n",
    "for i in range(no1):\n",
    "    ff = f'Qe_{T_range[i]}'\n",
    "    dd = f'Ce_{i+1}'\n",
    "    \n",
    "    xvals = 1/locals()[dd][1:]\n",
    "    yvals = 1/locals()[ff][1:]\n",
    "    \n",
    "    bqm_1, Qm_1 = np.polyfit(xvals, yvals, 1)\n",
    "    Qm = 1/Qm_1\n",
    "    b = (1/bqm_1)/Qm\n",
    "    \n",
    "    b_vals.append(b)\n",
    "    qm_vals.append(Qm)\n",
    "    \n",
    "qm_guess = np.sum(qm_vals)/no1\n",
    "\n",
    "if no_Tvar == 1:\n",
    "    kL_guess = np.sum(np.array(b_vals))/no1\n",
    "\n",
    "else:\n",
    "    lnb = np.log(np.array(b_vals))\n",
    "    neg_hr, sr = np.polyfit(1/T_range, lnb, 1)\n",
    "\n",
    "    s_guess = sr*R\n",
    "    h_guess = neg_hr*R*-1"
   ]
  },
  {
   "cell_type": "code",
   "execution_count": 48,
   "metadata": {},
   "outputs": [],
   "source": [
    "if no_Tvar == 1:\n",
    "    def comboFunc(comboData, kL, Qmax):        \n",
    "        b = []\n",
    "\n",
    "        for j in range(no1):\n",
    "            def isotherm(Ce, kL, Qmax):\n",
    "                T = T_range[j]\n",
    "                Qe = (kL*Qmax*Ce)/(1+kL*Ce)\n",
    "                return Qe\n",
    "\n",
    "            extract = comboData[kj[j]:kj[j+1]]\n",
    "            result = isotherm(extract, kL, Qmax)\n",
    "\n",
    "            a = np.append(b, result)\n",
    "            if j == (no1-1):\n",
    "                break\n",
    "            else:\n",
    "                b = a\n",
    "        return a\n",
    "\n",
    "    initialParameters = np.array([kL_guess, qm_guess])\n",
    "    fittedParameters, pcov = curve_fit(comboFunc, Cetotal, Qetotal, initialParameters)\n",
    "\n",
    "    kL, Qmax = fittedParameters\n",
    "\n",
    "    C_range = np.linspace(0, max(Cetotal), 101)\n",
    "    \n",
    "    def isotherm_plot(Ce, kL, Qmax, T):\n",
    "        Qe = (kL*Qmax*Ce)/(1+kL*Ce)\n",
    "        return Qe\n",
    "    \n",
    "else:\n",
    "    def comboFunc(comboData, S, H, Qmax):        \n",
    "        b = []\n",
    "\n",
    "        for j in range(no1):\n",
    "            def isotherm(Ce, S, H, Qmax):\n",
    "                T = T_range[j]\n",
    "                kL = np.exp(S/R - (H)/(R*T))\n",
    "                Qe = (kL*Qmax*Ce)/(1+kL*Ce)\n",
    "                return Qe\n",
    "\n",
    "            extract = comboData[kj[j]:kj[j+1]]\n",
    "            result = isotherm(extract, S, H, Qmax)\n",
    "\n",
    "            a = np.append(b, result)\n",
    "            if j == (no1-1):\n",
    "                break\n",
    "            else:\n",
    "                b = a\n",
    "        return a\n",
    "\n",
    "    initialParameters = np.array([s_guess, h_guess, qm_guess])\n",
    "    fittedParameters, pcov = curve_fit(comboFunc, Cetotal, Qetotal, initialParameters)\n",
    "\n",
    "    S, H, Qmax = fittedParameters\n",
    "\n",
    "    C_range = np.linspace(0, max(Cetotal), 101)\n",
    "\n",
    "    def isotherm_plot(Ce, S, H, Qmax, T):\n",
    "        kL = np.exp(S/R - (H)/(R*T))\n",
    "        Qe = (kL*Qmax*Ce)/(1+kL*Ce)\n",
    "        return Qe"
   ]
  },
  {
   "cell_type": "code",
   "execution_count": 49,
   "metadata": {},
   "outputs": [],
   "source": [
    "if no_Tvar == 1:\n",
    "    pass\n",
    "else:\n",
    "    kL = np.exp(S/R - H/(R*T_forcalc))"
   ]
  },
  {
   "cell_type": "code",
   "execution_count": 50,
   "metadata": {},
   "outputs": [],
   "source": [
    "if no_Tvar == 1:\n",
    "    Qe_final = isotherm_plot(C_range, kL, Qmax, T_used)[-1]\n",
    "    \n",
    "else:\n",
    "    Qe_final = isotherm_plot(C_range, S, H, Qmax, T_used)[-1]"
   ]
  },
  {
   "cell_type": "code",
   "execution_count": 51,
   "metadata": {},
   "outputs": [],
   "source": [
    "kin = pd.read_excel(Spreadsheet_name, sheet_name = Kinetics_name)\n",
    "for i in range(no2):\n",
    "    gr = f'{C_array[i]} ppm'\n",
    "    ty = f'ppm_{C_array[i]}'\n",
    "    locals()[ty] = np.array(kin[gr])\n",
    "    locals()[ty] = locals()[ty][~np.isnan(locals()[ty])]\n",
    "    \n",
    "    if No_TimeVar == 1:\n",
    "        Time = np.array(kin['Experimental time'])\n",
    "        \n",
    "    else:\n",
    "        ge = f'Time{C_array[i]}'\n",
    "        te = f'Time_{C_array[i]}'\n",
    "        locals()[te] = np.array(kin[ge])\n",
    "        locals()[te] = locals()[te][~np.isnan(locals()[te])]"
   ]
  },
  {
   "cell_type": "code",
   "execution_count": 52,
   "metadata": {},
   "outputs": [],
   "source": [
    "T_list = []\n",
    "Q_list = []\n",
    "\n",
    "if No_TimeVar == 1:\n",
    "    for i in range(no2):\n",
    "        fgrt = f'ppm_{C_array[i]}'\n",
    "        T_list.append(Time)\n",
    "        Q_list.append(locals()[fgrt])\n",
    "        \n",
    "else:\n",
    "    for i in range(no2):\n",
    "        fgrt = f'ppm_{C_array[i]}'\n",
    "        flp = f'Time_{C_array[i]}'\n",
    "        T_list.append(locals()[flp])\n",
    "        Q_list.append(locals()[fgrt])"
   ]
  },
  {
   "cell_type": "code",
   "execution_count": 53,
   "metadata": {},
   "outputs": [],
   "source": [
    "if percenta == 1:\n",
    "    Q_list = np.array(Q_list)\n",
    "    Q_list = Q_list/100*Qe_final\n",
    "    \n",
    "else:\n",
    "    pass"
   ]
  },
  {
   "cell_type": "code",
   "execution_count": 54,
   "metadata": {},
   "outputs": [],
   "source": [
    "Ttotal = []\n",
    "Qtotal = []\n",
    "gg = []\n",
    "rr = []\n",
    "for j in range(no2):\n",
    "    result = T_list[j]\n",
    "    qq = Q_list[j]\n",
    "    Ttotal = np.append(gg, result)\n",
    "    Qtotal = np.append(rr, qq)\n",
    "    if j == no2-1:\n",
    "        break\n",
    "    else:\n",
    "        gg = Ttotal\n",
    "        rr = Qtotal"
   ]
  },
  {
   "cell_type": "code",
   "execution_count": 55,
   "metadata": {},
   "outputs": [],
   "source": [
    "jj = []\n",
    "for i in range(len(T_list)):\n",
    "    jj.append(len(T_list[i]))\n",
    "    \n",
    "kk = []\n",
    "kk.append(0)\n",
    "summ = 0\n",
    "for i in range(len(jj)):\n",
    "    summ += jj[i]\n",
    "    kk.append(summ)"
   ]
  },
  {
   "cell_type": "code",
   "execution_count": 56,
   "metadata": {
    "scrolled": true
   },
   "outputs": [],
   "source": [
    "kad_vals = []\n",
    "\n",
    "for i in range(no2):\n",
    "    xvals = T_list[i][0:2]\n",
    "    yvals = np.log(Qe_final - Q_list[i][0:2])\n",
    "    \n",
    "    slope, intercept = np.polyfit(xvals, yvals, 1)\n",
    "    k1 = - slope\n",
    "    \n",
    "    kad = (k1*Qe_final/(C_array[i]))\n",
    "    kad_vals.append(kad)\n",
    "    \n",
    "kad_vals = np.array(kad_vals)\n",
    "kad_guess = np.sum(kad_vals/no2)"
   ]
  },
  {
   "cell_type": "code",
   "execution_count": 57,
   "metadata": {},
   "outputs": [],
   "source": [
    "def comboFunc22(comboData, kad):\n",
    "        \n",
    "    b = []\n",
    "        \n",
    "    for j in range(no2):\n",
    "        \n",
    "        times = comboData[kk[j]:kk[j+1]]\n",
    "        \n",
    "        def kinetics(t, kad):\n",
    "            def inte(t, var):\n",
    "                Q = var\n",
    "                Ca0 = C_array[j]\n",
    "                Ca = Ca0 - Q*(m/V)\n",
    "                dQdt = kad*Ca*(1 - Q/Qmax) - (kad/kL)*(Q/Qmax)\n",
    "                return dQdt\n",
    "            \n",
    "            ts = (0, t[-1])\n",
    "            ans = solve_ivp(inte, ts, [0], t_eval = times)\n",
    "            Qt = ans.y[0]\n",
    "\n",
    "            return Qt\n",
    "        \n",
    "        result = kinetics(times, kad)\n",
    "        \n",
    "        a = np.append(b, result)\n",
    "        if j == (no2-1):\n",
    "            break\n",
    "        else:\n",
    "            b = a\n",
    "    return a\n",
    "\n",
    "initialParameters = np.array([kad_guess])\n",
    "fittedParameters, pcov = curve_fit(comboFunc22, Ttotal, Qtotal, initialParameters)\n",
    "\n",
    "kad = fittedParameters[0]"
   ]
  },
  {
   "cell_type": "code",
   "execution_count": 58,
   "metadata": {},
   "outputs": [
    {
     "name": "stdout",
     "output_type": "stream",
     "text": [
      "Qmax = 101.927 mg/g\n",
      "S = 15.504 J/(mol*K)\n",
      "H = 6344.828 J/mol\n",
      "\n",
      "\n",
      "kad = 0.02014 L/(g*min)\n",
      "\n",
      "\n",
      "R_squared = 0.996\n",
      "STDerror = 0.014\n",
      "\n",
      "\n"
     ]
    },
    {
     "data": {
      "image/png": "[encoded data removed]",
      "text/plain": [
       "<Figure size 432x288 with 1 Axes>"
      ]
     },
     "metadata": {
      "needs_background": "light"
     },
     "output_type": "display_data"
    },
    {
     "data": {
      "image/png": "[encoded data removed]",
      "text/plain": [
       "<Figure size 432x288 with 1 Axes>"
      ]
     },
     "metadata": {
      "needs_background": "light"
     },
     "output_type": "display_data"
    }
   ],
   "source": [
    "Qlist_new = []\n",
    "\n",
    "for k in range(no2):\n",
    "\n",
    "    def kinetics(t, kad):    \n",
    "        def inte(t, var):\n",
    "            Q = var\n",
    "            Ca0 = C_array[k]\n",
    "            Ca = Ca0 - Q*(m/V)\n",
    "            dQdt = kad*Ca*(1 - Q/Qmax) - (kad/kL)*(Q/Qmax)\n",
    "            return dQdt\n",
    "\n",
    "        ts = (0, t[-1])\n",
    "        ans = solve_ivp(inte, ts, [0], dense_output = True)\n",
    "\n",
    "        Qt = ans.sol(t)[0]\n",
    "        return Qt\n",
    "    \n",
    "    Tf = int(np.round(T_list[j][-1]+1, 0))\n",
    "    Tspan1 = np.linspace(0, Tf, Tf*10+1)\n",
    "    \n",
    "    plt.figure(1)\n",
    "    plt.plot(T_list[k], Q_list[k], 'r*')\n",
    "    plt.plot(Tspan1, kinetics(Tspan1, kad), label = f'{C_array[k]} ppm')\n",
    "    \n",
    "    Qlist_new.append(kinetics(T_list[k], kad))\n",
    "    \n",
    "Qtot_new = []\n",
    "emt = []\n",
    "for j in range(no2):\n",
    "    result = Qlist_new[j]\n",
    "    Qtot_new = np.append(emt, result)\n",
    "    if j == no2-1:\n",
    "        break\n",
    "    else:\n",
    "        emt = Qtot_new\n",
    "        \n",
    "slope, intercept, r_val, p_val, std_error = lnrg(Qtotal, Qtot_new)\n",
    "\n",
    "plt.figure(1)\n",
    "plt.legend()\n",
    "plt.xlabel(f'Time [{Time_units}]')\n",
    "plt.ylabel(f'Q(t) [mg/g]')\n",
    "plt.title(Kinetics_name)\n",
    "\n",
    "if no_Tvar == 1:\n",
    "    plt.figure(2)\n",
    "    plt.plot(Ce_1, Qe_list[0], 'r*')\n",
    "    plt.plot(C_range, isotherm_plot(C_range, kL, Qmax, T_range[0]), label = f'{T_range[0]}K')\n",
    "    \n",
    "else:\n",
    "    plt.figure(2)\n",
    "    for i in range(no1):\n",
    "        plt.plot(Ce_list[i], Qe_list[i], 'r*')\n",
    "        plt.plot(C_range, isotherm_plot(C_range, S, H, Qmax, T_range[i]), label = f'{T_range[i]}K')\n",
    "        \n",
    "plt.figure(2)\n",
    "plt.legend()\n",
    "plt.xlabel('Ce [mg/L]')\n",
    "plt.ylabel('Qe [mg/g]')\n",
    "plt.title(Isotherms_name)\n",
    "\n",
    "print(f'Qmax = {np.round(Qmax, 3)} mg/g')\n",
    "if no_Tvar == 1:\n",
    "    print(f'kL = {np.round(kL, 5)} L/(g*{Time_units})')\n",
    "else:\n",
    "    print(f'S = {np.round(S, 3)} J/(mol*K)')\n",
    "    print(f'H = {np.round(H, 3)} J/mol')\n",
    "print('\\n')\n",
    "print(f'kad = {np.round(kad, 5)} L/(g*{Time_units})')\n",
    "print('\\n')\n",
    "print(f'R_squared = {np.round(r_val**2, 3)}')\n",
    "print(f'STDerror = {np.round(std_error, 3)}')\n",
    "print('\\n')"
   ]
  }
 ],
 "metadata": {
  "kernelspec": {
   "display_name": "Python 3",
   "language": "python",
   "name": "python3"
  },
  "language_info": {
   "codemirror_mode": {
    "name": "ipython",
    "version": 3
   },
   "file_extension": ".py",
   "mimetype": "text/x-python",
   "name": "python",
   "nbconvert_exporter": "python",
   "pygments_lexer": "ipython3",
   "version": "3.8.3"
  }
 },
 "nbformat": 4,
 "nbformat_minor": 4
}
